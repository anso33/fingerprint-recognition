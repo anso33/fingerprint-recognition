{
  "cells": [
    {
      "cell_type": "code",
      "execution_count": null,
      "metadata": {
        "colab": {
          "base_uri": "https://localhost:8080/"
        },
        "id": "OMNpBBo4vxq8",
        "outputId": "c64ed3bc-e561-44f2-c5f2-c528d8ec81a5"
      },
      "outputs": [],
      "source": [
        "! cp -r ../test2 ./\n",
        "! cp -r ../train_ref ./\n",
        "! ls -al"
      ]
    },
    {
      "cell_type": "code",
      "execution_count": 9,
      "metadata": {
        "id": "lhOWjeva2Bgn"
      },
      "outputs": [],
      "source": [
        "import cv2\n",
        "import numpy as np\n",
        "from skimage.morphology import skeletonize\n",
        "from sklearn.metrics import precision_score, recall_score, accuracy_score, confusion_matrix\n",
        "from scipy.spatial import KDTree\n",
        "import concurrent.futures\n",
        "import os\n",
        "import gc"
      ]
    },
    {
      "cell_type": "code",
      "execution_count": 11,
      "metadata": {
        "colab": {
          "background_save": true
        },
        "id": "twtp0Vdr2L0Y",
        "outputId": "841a8a56-fc21-4751-bc0d-8865da12a8de"
      },
      "outputs": [
        {
          "name": "stdout",
          "output_type": "stream",
          "text": [
            "Total processing time: 3458.5863518714905 seconds\n",
            "Precision: 0.0, Recall: 0.0, Accuracy: 0.0, FAR: nan, FRR: 1.0\n"
          ]
        },
        {
          "name": "stderr",
          "output_type": "stream",
          "text": [
            "/Users/ansohyeon/.conda/envs/Test_Project_1017/lib/python3.10/site-packages/sklearn/metrics/_classification.py:1517: UndefinedMetricWarning: Precision is ill-defined and being set to 0.0 due to no predicted samples. Use `zero_division` parameter to control this behavior.\n",
            "  _warn_prf(average, modifier, f\"{metric.capitalize()} is\", len(result))\n",
            "/var/folders/qd/lhjwrk_s2t9398k1stxd6v7r0000gn/T/ipykernel_31127/145944183.py:49: RuntimeWarning: invalid value encountered in scalar divide\n",
            "  FAR = cm[0, 1] / (cm[0, 1] + cm[0, 0])\n"
          ]
        }
      ],
      "source": [
        "import cv2\n",
        "import numpy as np\n",
        "from skimage.morphology import skeletonize\n",
        "from sklearn.metrics import precision_score, recall_score, accuracy_score, confusion_matrix\n",
        "from scipy.spatial import KDTree\n",
        "import os\n",
        "import time\n",
        "\n",
        "# 1. 이미지 전처리\n",
        "def preprocess_image(image_path):\n",
        "    image = cv2.imread(image_path, cv2.IMREAD_GRAYSCALE)\n",
        "    blurred = cv2.GaussianBlur(image, (5, 5), 0)\n",
        "    _, binary = cv2.threshold(blurred, 0, 255, cv2.THRESH_BINARY_INV + cv2.THRESH_OTSU)\n",
        "    skeleton = skeletonize(binary // 255).astype(np.uint8)\n",
        "    return skeleton\n",
        "\n",
        "# 2-1. Minutiae (end, bif) 검출 (벡터화 사용)\n",
        "def detect_minutiae(skeleton):\n",
        "    minutiae = {'end': [], 'bif': []}\n",
        "\n",
        "    kernel = np.array([[1, 1, 1], [1, 10, 1], [1, 1, 1]])\n",
        "    filtered = cv2.filter2D(skeleton, -1, kernel)\n",
        "\n",
        "    minutiae['end'] = np.argwhere(filtered == 11).tolist()\n",
        "    minutiae['bif'] = np.argwhere(filtered == 13).tolist()\n",
        "\n",
        "    return minutiae\n",
        "\n",
        "# 3-1. 매칭 (KD-Tree 사용)\n",
        "def match_fingerprints(test_minutiae, train_minutiae, threshold):\n",
        "    test_points = np.array(test_minutiae['end'] + test_minutiae['bif'])\n",
        "    train_points = np.array(train_minutiae['end'] + train_minutiae['bif'])\n",
        "\n",
        "    if len(test_points) == 0 or len(train_points) == 0:\n",
        "        return 0  # 매칭할 포인트가 없으면 0 반환\n",
        "\n",
        "    kd_tree = KDTree(train_points)\n",
        "    matches = kd_tree.query_ball_point(test_points, threshold)\n",
        "\n",
        "    match_count = sum(len(match) > 0 for match in matches)\n",
        "    return match_count\n",
        "\n",
        "# 4. Metric 계산\n",
        "def calculate_metrics(true_labels, predicted_labels):\n",
        "    precision = precision_score(true_labels, predicted_labels)\n",
        "    recall = recall_score(true_labels, predicted_labels)\n",
        "    accuracy = accuracy_score(true_labels, predicted_labels)\n",
        "    cm = confusion_matrix(true_labels, predicted_labels)\n",
        "    FAR = cm[0, 1] / (cm[0, 1] + cm[0, 0])\n",
        "    FRR = cm[1, 0] / (cm[1, 1] + cm[1, 0])\n",
        "    return precision, recall, accuracy, FAR, FRR\n",
        "\n",
        "# 데이터 폴더 경로\n",
        "train_folder = 'train_ref/'\n",
        "test_folder = 'test2/'\n",
        "\n",
        "def process_image_pair(test_image_path, train_image_paths, threshold):\n",
        "    try:\n",
        "        test_skeleton = preprocess_image(test_image_path)\n",
        "        test_minutiae = detect_minutiae(test_skeleton)\n",
        "        \n",
        "        best_match_score = float('inf')\n",
        "        best_train_image = None\n",
        "        \n",
        "        for train_image_path in train_image_paths:\n",
        "            train_skeleton = preprocess_image(train_image_path)\n",
        "            train_minutiae = detect_minutiae(train_skeleton)\n",
        "            \n",
        "            match_score = match_fingerprints(test_minutiae, train_minutiae, threshold)\n",
        "            \n",
        "            if match_score < best_match_score:\n",
        "                best_match_score = match_score\n",
        "                best_train_image = train_image_path\n",
        "        \n",
        "        return best_match_score\n",
        "    except Exception as e:\n",
        "        print(f'Error processing {test_image_path}: {e}')\n",
        "        return float('inf')\n",
        "\n",
        "def main():\n",
        "    train_images = [os.path.join(train_folder, f) for f in os.listdir(train_folder) if f.endswith('.BMP')]\n",
        "    test_images = [os.path.join(test_folder, f) for f in os.listdir(test_folder) if f.endswith('.BMP')]\n",
        "\n",
        "    threshold = 10  # 임계값 설정\n",
        "\n",
        "    all_true_labels = []\n",
        "    all_predicted_labels = []\n",
        "\n",
        "    start_time = time.time()\n",
        "    \n",
        "    # 순차적으로 처리\n",
        "    for test_image_path in test_images:\n",
        "        best_match_score = process_image_pair(test_image_path, train_images, threshold)\n",
        "        all_true_labels.append(1)  # 예시로 모든 매치를 1로 설정\n",
        "        all_predicted_labels.append(1 if best_match_score < threshold else 0)\n",
        "\n",
        "    elapsed_time = time.time() - start_time\n",
        "    print(f'Total processing time: {elapsed_time} seconds')\n",
        "\n",
        "    precision, recall, accuracy, FAR, FRR = calculate_metrics(all_true_labels, all_predicted_labels)\n",
        "\n",
        "    print(f'Precision: {precision}, Recall: {recall}, Accuracy: {accuracy}, FAR: {FAR}, FRR: {FRR}')\n",
        "\n",
        "if __name__ == \"__main__\":\n",
        "    main()\n"
      ]
    }
  ],
  "metadata": {
    "accelerator": "GPU",
    "colab": {
      "gpuType": "T4",
      "provenance": []
    },
    "kernelspec": {
      "display_name": "Python 3",
      "name": "python3"
    },
    "language_info": {
      "codemirror_mode": {
        "name": "ipython",
        "version": 3
      },
      "file_extension": ".py",
      "mimetype": "text/x-python",
      "name": "python",
      "nbconvert_exporter": "python",
      "pygments_lexer": "ipython3",
      "version": "3.10.6"
    }
  },
  "nbformat": 4,
  "nbformat_minor": 0
}
